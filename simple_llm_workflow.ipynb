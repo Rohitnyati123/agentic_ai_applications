{
 "cells": [
  {
   "cell_type": "code",
   "execution_count": 2,
   "id": "b2971f45",
   "metadata": {},
   "outputs": [
    {
     "name": "stdout",
     "output_type": "stream",
     "text": [
      "Ok!\n"
     ]
    }
   ],
   "source": [
    "print(\"Ok!\")"
   ]
  },
  {
   "cell_type": "code",
   "execution_count": null,
   "id": "715b67d3",
   "metadata": {},
   "outputs": [],
   "source": [
    "# !pip insta"
   ]
  },
  {
   "cell_type": "code",
   "execution_count": 8,
   "id": "1d566656",
   "metadata": {},
   "outputs": [],
   "source": [
    "from langgraph.graph import StateGraph, START, END\n",
    "# from langchain_openai import ChatOpenAI\n",
    "from langchain_groq import ChatGroq\n",
    "from typing import TypedDict\n",
    "from dotenv import load_dotenv\n",
    "import os"
   ]
  },
  {
   "cell_type": "code",
   "execution_count": 7,
   "id": "d888f8a3",
   "metadata": {},
   "outputs": [
    {
     "data": {
      "text/plain": [
       "True"
      ]
     },
     "execution_count": 7,
     "metadata": {},
     "output_type": "execute_result"
    }
   ],
   "source": [
    "load_dotenv()"
   ]
  },
  {
   "cell_type": "code",
   "execution_count": 12,
   "id": "326fa710",
   "metadata": {},
   "outputs": [],
   "source": [
    "api_key=os.getenv(\"GROQ_API_KEY\")"
   ]
  },
  {
   "cell_type": "code",
   "execution_count": 13,
   "id": "3c4723ca",
   "metadata": {},
   "outputs": [],
   "source": [
    "llm = ChatGroq(\n",
    "    model=\"deepseek-r1-distill-llama-70b\",\n",
    "    api_key=api_key,\n",
    "    temperature=0,\n",
    "    max_tokens=None,\n",
    "    reasoning_format=\"parsed\",\n",
    "    timeout=None,\n",
    "    max_retries=2,\n",
    "    # other params...\n",
    ")"
   ]
  },
  {
   "cell_type": "code",
   "execution_count": 14,
   "id": "bc4dc467",
   "metadata": {},
   "outputs": [],
   "source": [
    "# create a state\n",
    "\n",
    "class LLMState(TypedDict):\n",
    "\n",
    "    question: str\n",
    "    answer: str"
   ]
  },
  {
   "cell_type": "code",
   "execution_count": 18,
   "id": "bb4bb46e",
   "metadata": {},
   "outputs": [],
   "source": [
    "def llm_qa(state: LLMState) -> LLMState:\n",
    "\n",
    "    # extract the question from state\n",
    "    question = state['question']\n",
    "\n",
    "    # form a prompt\n",
    "    prompt = f'Answer the following question {question}'\n",
    "\n",
    "    # ask that question to the LLM\n",
    "    answer = llm.invoke(prompt).content\n",
    "\n",
    "    # update the answer in the state\n",
    "    state['answer'] = answer\n",
    "\n",
    "    return state"
   ]
  },
  {
   "cell_type": "code",
   "execution_count": 19,
   "id": "c0171cb3",
   "metadata": {},
   "outputs": [],
   "source": [
    "# create our graph\n",
    "\n",
    "graph = StateGraph(LLMState)\n",
    "\n",
    "# add nodes\n",
    "graph.add_node('llm_qa', llm_qa)\n",
    "\n",
    "# add edges\n",
    "graph.add_edge(START, 'llm_qa')\n",
    "graph.add_edge('llm_qa', END)\n",
    "\n",
    "# compile\n",
    "workflow = graph.compile()"
   ]
  },
  {
   "cell_type": "code",
   "execution_count": 20,
   "id": "877f3905",
   "metadata": {},
   "outputs": [
    {
     "name": "stdout",
     "output_type": "stream",
     "text": [
      "The Moon's average distance from Earth is approximately 238,900 miles (384,400 kilometers). This distance varies because the Moon's orbit is elliptical, leading to points called perigee (closest approach) and apogee (farthest point). At perigee, the distance is about 225,000 miles (363,300 km), and at apogee, it is roughly 252,000 miles (405,500 km). The Moon's distance affects phenomena like tides, with closer distances intensifying tidal effects. Additionally, the Moon is slowly moving away from Earth due to tidal interactions, though this process is gradual.\n"
     ]
    }
   ],
   "source": [
    "# execute\n",
    "\n",
    "intial_state = {'question': 'How far is moon from the earth?'}\n",
    "\n",
    "final_state = workflow.invoke(intial_state)\n",
    "\n",
    "print(final_state['answer'])"
   ]
  },
  {
   "cell_type": "code",
   "execution_count": 21,
   "id": "a3710165",
   "metadata": {},
   "outputs": [
    {
     "data": {
      "text/plain": [
       "\"The Moon's distance from Earth is not constant due to its elliptical orbit. Here's a detailed overview:\\n\\n1. **Average Distance**: The average distance from Earth to the Moon is approximately 238,900 miles (384,400 kilometers).\\n\\n2. **Perigee and Apogee**:\\n   - **Perigee**: The closest point in the Moon's orbit, where the distance is about 225,622 miles (363,300 kilometers).\\n   - **Apogee**: The farthest point, where the distance is roughly 252,088 miles (405,500 kilometers).\\n\\n3. **Orbital Mechanics**: The elliptical shape of the Moon's orbit results from gravitational interactions and the balance between the Moon's velocity and Earth's gravity. The Moon moves faster at perigee and slower at apogee.\\n\\n4. **Effects on Tides**: The varying distance affects tidal forces, with stronger tides at perigee due to the Moon's closer proximity.\\n\\n5. **Orbital Changes**: The Moon is gradually moving away from Earth at a rate of a few centimeters per year due to tidal interactions, which transfer energy to the Moon's orbit.\\n\\n6. **Measurement Methods**: Scientists use laser ranging, bouncing lasers off mirrors left on the Moon during Apollo missions, for precise distance measurements.\\n\\nIn summary, the Moon's distance varies between approximately 225,622 miles (363,300 km) at perigee and 252,088 miles (405,500 km) at apogee, with an average of about 238,900 miles (384,400 km).\""
      ]
     },
     "execution_count": 21,
     "metadata": {},
     "output_type": "execute_result"
    }
   ],
   "source": [
    "llm.invoke('How far is moon from the earth?').content"
   ]
  },
  {
   "cell_type": "code",
   "execution_count": null,
   "id": "7366e08b",
   "metadata": {},
   "outputs": [],
   "source": []
  }
 ],
 "metadata": {
  "kernelspec": {
   "display_name": "Python 3",
   "language": "python",
   "name": "python3"
  },
  "language_info": {
   "codemirror_mode": {
    "name": "ipython",
    "version": 3
   },
   "file_extension": ".py",
   "mimetype": "text/x-python",
   "name": "python",
   "nbconvert_exporter": "python",
   "pygments_lexer": "ipython3",
   "version": "3.9.23"
  }
 },
 "nbformat": 4,
 "nbformat_minor": 5
}
