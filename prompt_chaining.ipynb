{
 "cells": [
  {
   "cell_type": "code",
   "execution_count": 43,
   "id": "35cfa508",
   "metadata": {},
   "outputs": [],
   "source": [
    "from langgraph.graph import StateGraph, START, END\n",
    "from langchain_groq import ChatGroq\n",
    "from typing import TypedDict\n",
    "from dotenv import load_dotenv\n",
    "import os"
   ]
  },
  {
   "cell_type": "code",
   "execution_count": 44,
   "id": "b5e66947",
   "metadata": {},
   "outputs": [
    {
     "data": {
      "text/plain": [
       "True"
      ]
     },
     "execution_count": 44,
     "metadata": {},
     "output_type": "execute_result"
    }
   ],
   "source": [
    "load_dotenv()"
   ]
  },
  {
   "cell_type": "code",
   "execution_count": 45,
   "id": "a7b1c5e6",
   "metadata": {},
   "outputs": [],
   "source": [
    "api_key=os.environ.get(\"GROQ_API_KEY\")"
   ]
  },
  {
   "cell_type": "code",
   "execution_count": 46,
   "id": "b2ea1e2a",
   "metadata": {},
   "outputs": [],
   "source": [
    "llm = ChatGroq(\n",
    "    model=\"openai/gpt-oss-20b\",\n",
    "    api_key=api_key,\n",
    "    temperature=0,\n",
    "    max_tokens=None,\n",
    "    reasoning_format=\"parsed\",\n",
    "    timeout=None,\n",
    "    max_retries=2,\n",
    "    # other params...\n",
    ")"
   ]
  },
  {
   "cell_type": "code",
   "execution_count": 47,
   "id": "932c6e7c",
   "metadata": {},
   "outputs": [],
   "source": [
    "class BlogState(TypedDict):\n",
    "    title:str\n",
    "    outline:str\n",
    "    content:str"
   ]
  },
  {
   "cell_type": "code",
   "execution_count": 48,
   "id": "f2119578",
   "metadata": {},
   "outputs": [],
   "source": [
    "# Create outline and blog function\n",
    "def create_outline(state:BlogState) -> BlogState:\n",
    "    # fetch file\n",
    "    title=state['title']\n",
    "\n",
    "    # call llm gen outline\n",
    "    prompt=f\"Generate outline for a blog on the topic -{title}\"\n",
    "\n",
    "    outline=llm.invoke(prompt).content\n",
    "\n",
    "    state['outline'] = outline\n",
    "\n",
    "    return state"
   ]
  },
  {
   "cell_type": "code",
   "execution_count": 49,
   "id": "e1b46f84",
   "metadata": {},
   "outputs": [],
   "source": [
    "def create_blog(state:BlogState) -> BlogState:\n",
    "    title=state['title']\n",
    "    outline=state['outline']\n",
    "    prompt=f\"write a detailed blog on title using the following outline {outline}\"\n",
    "    content=llm.invoke(prompt).content\n",
    "    state['content']=content\n",
    "    return state\n"
   ]
  },
  {
   "cell_type": "code",
   "execution_count": 50,
   "id": "22f366b1",
   "metadata": {},
   "outputs": [],
   "source": [
    "# execute \n",
    "graph=StateGraph(BlogState)\n",
    "\n",
    "# nodes\n",
    "graph.add_node('create_outline',create_outline)\n",
    "graph.add_node('create_blog',create_blog)\n",
    "\n",
    "# edges\n",
    "graph.add_edge(START,'create_outline')\n",
    "graph.add_edge('create_outline','create_blog')\n",
    "graph.add_edge('create_blog',END)\n",
    "\n",
    "workflow=graph.compile()"
   ]
  },
  {
   "cell_type": "code",
   "execution_count": 51,
   "id": "8143be29",
   "metadata": {},
   "outputs": [
    {
     "name": "stdout",
     "output_type": "stream",
     "text": [
      "{'title': 'Rise of AI in India', 'outline': '## Blog Outline  \\n**Title:** *Rise of AI in India: From Startup Hubs to Smart Nation*\\n\\n---\\n\\n### 1. Introduction  \\n- **Hook:** A striking statistic or anecdote (e.g., “India’s AI market is projected to hit $10\\u202fB by 2025”).  \\n- **Purpose:** Explain why the AI boom matters for India’s economy, society, and global standing.  \\n- **Roadmap:** Briefly outline the sections that will follow.\\n\\n---\\n\\n### 2. Historical Context  \\n- **Early AI Efforts (1990s‑2000s):**  \\n  - Academic research (e.g., IITs, NITs).  \\n  - First AI labs and government projects.  \\n- **The Digital Revolution (2010‑2015):**  \\n  - Mobile penetration, cloud adoption.  \\n  - Rise of data as a commodity.  \\n- **Catalysts for the Current Boom:**  \\n  - Government’s “Digital India” and “Startup India” initiatives.  \\n  - Global AI trends and the “AI race” narrative.\\n\\n---\\n\\n### 3. Current Landscape of AI in India  \\n- **Key Players:**  \\n  - **Large Corporations:** Infosys, Wipro, TCS, HCL, IBM India.  \\n  - **Startups & Scale‑ups:** Haptik, Niki.ai, SigTuple, Uniphore, GreyOrange.  \\n  - **Academic & Research Institutes:** IIT Bombay, IIT Delhi, IIIT Hyderabad, NIT Trichy.  \\n- **Investment & Funding:**  \\n  - VC inflows, corporate venture arms, government grants.  \\n  - Notable funding rounds (e.g., “X” startup raised $Y).  \\n- **Talent Pool:**  \\n  - Number of AI researchers, PhDs, data scientists.  \\n  - Role of coding bootcamps, MOOCs, and university programs.\\n\\n---\\n\\n### 4. AI Across Sectors  \\n| Sector | AI Applications | Impact | Key Players |\\n|--------|-----------------|--------|-------------|\\n| **Healthcare** | Diagnostics, drug discovery, tele‑medicine | Reduced costs, faster diagnosis | SigTuple, Niramai, Practo |\\n| **Agriculture** | Crop monitoring, yield prediction, pest detection | Higher yields, resource optimization | CropIn, Stellapps |\\n| **Finance** | Fraud detection, credit scoring, robo‑advisors | Increased financial inclusion | Razorpay, Paytm, ZestMoney |\\n| **Retail & E‑commerce** | Personalization, inventory forecasting | Higher conversion, lower churn | Flipkart AI, Myntra |\\n| **Manufacturing** | Predictive maintenance, quality control | Reduced downtime, cost savings | GreyOrange, Locus |\\n| **Smart Cities & IoT** | Traffic management, energy optimization | Improved urban living | CityMinds, SmartCity |\\n| **Education** | Adaptive learning, skill assessment | Personalized learning paths | Byju’s, Vedantu |\\n\\n---\\n\\n### 5. Government Initiatives & Policy Framework  \\n- **National AI Strategy (2020‑2025)** – Vision, priorities, and funding.  \\n- **AI for All** – Focus on healthcare, agriculture, education.  \\n- **AI Research Centres** – AI Research Centres (AIRC) and AI Labs.  \\n- **Data Governance & Ethics** – Draft AI policy, data protection laws.  \\n- **Skill Development** – AI-focused courses in government schemes (e.g., Pradhan Mantri Kaushal Vikas Yojana).  \\n\\n---\\n\\n### 6. Ecosystem & Infrastructure  \\n- **Data Infrastructure:**  \\n  - Public datasets (e.g., Open Government Data).  \\n  - Cloud providers (AWS, Azure, Google Cloud, local players).  \\n- **Hardware & Edge Computing:**  \\n  - Availability of GPUs, TPUs, and local chip manufacturing.  \\n- **Incubators & Accelerators:**  \\n  - T-Hub, Microsoft Accelerator, Google Launchpad.  \\n- **Collaborations:**  \\n  - Public‑private partnerships, academia‑industry joint labs.\\n\\n---\\n\\n### 7. Challenges & Risks  \\n- **Talent Shortage & Brain Drain** – Need for more AI researchers.  \\n- **Data Privacy & Security** – Balancing innovation with user protection.  \\n- **Ethical & Bias Concerns** – Ensuring inclusive AI.  \\n- **Infrastructure Gaps** – Rural connectivity, power reliability.  \\n- **Regulatory Uncertainty** – Need for clear AI governance.\\n\\n---\\n\\n### 8. Success Stories & Case Studies  \\n- **Case 1:** *AI‑driven disease detection in rural clinics* – Impact metrics.  \\n- **Case 2:** *Smart agriculture platform boosting farmer income* – ROI analysis.  \\n- **Case 3:** *AI‑powered customer service in telecom* – Cost savings & customer satisfaction.  \\n\\n---\\n\\n### 9. Future Outlook  \\n- **Projected Growth Trajectory** – Market size, employment, GDP contribution.  \\n- **Emerging Trends:**  \\n  - Federated learning, explainable AI, AI‑powered policy making.  \\n- **Potential Global Leadership** – India’s role in shaping AI standards.  \\n- **Actionable Recommendations** – For policymakers, entrepreneurs, and educators.\\n\\n---\\n\\n### 10. Conclusion  \\n- **Recap:** Summarize key takeaways.  \\n- **Call to Action:** Encourage stakeholders to invest, collaborate, and innovate responsibly.  \\n- **Closing Thought:** A visionary statement about India’s AI future.\\n\\n---\\n\\n### 11. Resources & Further Reading  \\n- Links to government reports, research papers, AI startup directories, and relevant podcasts or webinars.\\n\\n---\\n\\n**Optional Add‑Ons:**  \\n- **Infographics** – AI adoption by sector, funding heatmap.  \\n- **Interview Snippets** – Quotes from AI leaders or policymakers.  \\n- **Interactive Map** – AI hubs across India.  \\n\\nThis outline provides a comprehensive framework for a blog that covers the rise of AI in India from multiple angles—historical, economic, sectoral, policy, and future‑looking—while keeping the narrative engaging and actionable.', 'content': '# Rise of AI in India: From Startup Hubs to Smart Nation  \\n\\n> **“India’s AI market is projected to hit $10\\u202fB by 2025.”**  \\n> — *NASSCOM, 2023*  \\n\\nArtificial Intelligence is no longer a buzzword in India; it is a strategic lever that is reshaping the country’s economy, society, and global standing. From the bustling corridors of Bengaluru’s startup ecosystem to the data‑rich labs of IIT Bombay, AI is weaving itself into every sector—healthcare, agriculture, finance, and even the very fabric of our cities.  \\n\\nIn this blog we’ll trace the journey of AI in India, examine the current landscape, spotlight sector‑specific breakthroughs, unpack government policy, and look ahead to the next decade. Whether you’re a policymaker, an entrepreneur, a student, or simply an AI enthusiast, this guide will give you a clear, data‑driven picture of India’s AI future.\\n\\n---\\n\\n## 1. Introduction  \\n\\n### Hook  \\nIndia’s AI market is projected to hit **$10\\u202fB by 2025**—a 30‑fold increase from the $300\\u202fM it was worth in 2018.  \\n\\n### Why It Matters  \\n- **Economic Growth:** AI is expected to contribute **$1.5\\u202ftrillion** to India’s GDP by 2030, according to a PwC study.  \\n- **Job Creation:** The AI ecosystem could create **1.5\\u202fmillion** new jobs by 2025, spanning data science, software engineering, and AI ethics.  \\n- **Global Competitiveness:** With the “AI race” heating up, India’s ability to innovate will determine its position in the next wave of digital economies.  \\n\\n### Roadmap  \\n1. Historical context of AI in India  \\n2. Current landscape: players, funding, talent  \\n3. AI across key sectors  \\n4. Government initiatives & policy framework  \\n5. Ecosystem & infrastructure  \\n6. Challenges & risks  \\n7. Success stories & case studies  \\n8. Future outlook  \\n9. Conclusion & call to action  \\n10. Resources & further reading  \\n\\n---\\n\\n## 2. Historical Context  \\n\\n### Early AI Efforts (1990s‑2000s)  \\n- **Academic Roots:** IITs and NITs began AI research in the 1990s, focusing on expert systems and knowledge representation.  \\n- **First AI Labs:** The Indian Institute of Science (IISc) launched its AI research group in 1998; the Centre for Development of Advanced Computing (C-DAC) established the AI Lab in 2002.  \\n- **Government Projects:** The Ministry of Electronics & Information Technology (MeitY) funded pilot projects in natural language processing (NLP) for Hindi and Sanskrit.\\n\\n### The Digital Revolution (2010‑2015)  \\n- **Mobile Penetration:** India’s smartphone user base grew from 30\\u202fM in 2010 to 500\\u202fM by 2015, creating a massive data stream.  \\n- **Cloud Adoption:** Public cloud services (AWS, Azure, Google Cloud) entered India in 2012, lowering the barrier to AI experimentation.  \\n- **Data as a Commodity:** The rise of e‑commerce and digital payments turned transactional data into a goldmine for machine learning.\\n\\n### Catalysts for the Current Boom  \\n- **Digital India & Startup India (2015):** These flagship initiatives provided policy support, tax incentives, and a digital infrastructure roadmap.  \\n- **Global AI Trends:** The 2018 “AI race” narrative—led by the US, China, and EU—prompted India to accelerate its AI agenda.  \\n- **Talent Migration:** Indian diaspora returning to India with expertise in AI, and the rise of coding bootcamps and MOOCs, created a talent pipeline.\\n\\n---\\n\\n## 3. Current Landscape of AI in India  \\n\\n### Key Players  \\n\\n| Category | Representative Companies | Notable Achievements |\\n|----------|---------------------------|----------------------|\\n| **Large Corporations** | Infosys, Wipro, TCS, HCL, IBM India | AI consulting, enterprise solutions, AI‑powered automation |\\n| **Startups & Scale‑ups** | Haptik, Niki.ai, SigTuple, Uniphore, GreyOrange | Conversational AI, medical imaging, robotics |\\n| **Academic & Research Institutes** | IIT Bombay, IIT Delhi, IIIT Hyderabad, NIT Trichy | AI research labs, national AI initiatives |\\n\\n### Investment & Funding  \\n\\n| Source | 2023 Funding (USD) | Highlights |\\n|--------|--------------------|------------|\\n| VC Inflows | $1.2\\u202fB | 150+ AI startups raised capital |\\n| Corporate VCs | $300\\u202fM | Infosys Ventures, Wipro Ventures |\\n| Government Grants | $200\\u202fM | AI Research Centres (AIRC), Startup India Seed Fund |\\n\\n**Notable Funding Rounds**  \\n- *SigTuple* raised $70\\u202fM in Series C (2023) to expand its AI‑driven diagnostics platform.  \\n- *Niki.ai* secured $45\\u202fM in Series B (2022) to scale its conversational commerce engine.\\n\\n### Talent Pool  \\n\\n- **Researchers & PhDs:** Over 3,000 AI researchers and 1,200 PhDs in computer science (2023).  \\n- **Data Scientists:** 250,000+ professionals across the country, with 60% employed in the private sector.  \\n- **Education & Upskilling:**  \\n  - **Bootcamps:** 10+ coding bootcamps offering AI tracks (e.g., Great Learning, UpGrad).  \\n  - **MOOCs:** Coursera, edX, and NPTEL provide AI courses with industry certifications.  \\n  - **University Programs:** 20+ Indian universities now offer AI‑focused B.Tech and M.Tech degrees.\\n\\n---\\n\\n## 4. AI Across Sectors  \\n\\n| Sector | AI Applications | Impact | Key Players |\\n|--------|-----------------|--------|-------------|\\n| **Healthcare** | Diagnostics, drug discovery, tele‑medicine | Reduced costs, faster diagnosis | SigTuple, Niramai, Practo |\\n| **Agriculture** | Crop monitoring, yield prediction, pest detection | Higher yields, resource optimization | CropIn, Stellapps |\\n| **Finance** | Fraud detection, credit scoring, robo‑advisors | Increased financial inclusion | Razorpay, Paytm, ZestMoney |\\n| **Retail & E‑commerce** | Personalization, inventory forecasting | Higher conversion, lower churn | Flipkart AI, Myntra |\\n| **Manufacturing** | Predictive maintenance, quality control | Reduced downtime, cost savings | GreyOrange, Locus |\\n| **Smart Cities & IoT** | Traffic management, energy optimization | Improved urban living | CityMinds, SmartCity |\\n| **Education** | Adaptive learning, skill assessment | Personalized learning paths | Byju’s, Vedantu |\\n\\n**Deep Dive: Healthcare**  \\n- *SigTuple* uses deep learning to analyze medical images, reducing diagnostic time by 70% in rural clinics.  \\n- *Niramai* employs AI‑powered thermal imaging to detect breast cancer with 95% accuracy, cutting costs by 60%.\\n\\n---\\n\\n## 5. Government Initiatives & Policy Framework  \\n\\n### National AI Strategy (2020‑2025)  \\n- **Vision:** Position India as a global AI leader by 2030.  \\n- **Priorities:** Healthcare, agriculture, education, smart cities, and manufacturing.  \\n- **Funding:** ₹10,000 crore (≈$1.3\\u202fB) allocated for research, infrastructure, and skill development.\\n\\n### AI for All  \\n- **Focus Areas:**  \\n  - **Healthcare:** AI diagnostics for underserved regions.  \\n  - **Agriculture:** AI‑driven precision farming.  \\n  - **Education:** Adaptive learning platforms for K‑12 and higher education.\\n\\n### AI Research Centres (AIRC) & AI Labs  \\n- **AIRC Network:** 10 centres across India, each focusing on a specific domain (e.g., AI for Healthcare, AI for Smart Cities).  \\n- **AI Labs:** Partnerships between academia and industry to accelerate applied research.\\n\\n### Data Governance & Ethics  \\n- **Draft AI Policy (2023):** Emphasizes transparency, accountability, and bias mitigation.  \\n- **Data Protection Laws:** The Personal Data Protection Bill (PDPB) introduces data localization and user consent mechanisms.\\n\\n### Skill Development  \\n- **Pradhan Mantri Kaushal Vikas Yojana (PMKVY):** AI and data science courses integrated into the national skill framework.  \\n- **Digital India Skill Development Initiative:** 1.5\\u202fmillion AI professionals trained by 2025.\\n\\n---\\n\\n## 6. Ecosystem & Infrastructure  \\n\\n### Data Infrastructure  \\n\\n| Component | Details |\\n|-----------|---------|\\n| **Public Datasets** | Open Government Data (OGD) portal hosts 10,000+ datasets (health, agriculture, transport). |\\n| **Cloud Providers** | AWS, Azure, Google Cloud, and local players like Tata Communications and Reliance Jio Cloud. |\\n| **Data Lakes** | Government data lakes (e.g., National Data Lake) enable cross‑sector analytics. |\\n\\n### Hardware & Edge Computing  \\n\\n- **GPU Availability:** NVIDIA and AMD GPUs are now available in India’s data centers, with local assembly plants in partnership with TCS.  \\n- **Edge Devices:** Qualcomm’s Snapdragon AI platform powers IoT devices in smart cities.  \\n- **Chip Manufacturing:** The “Make in India” initiative is accelerating local ASIC development for AI workloads.\\n\\n### Incubators & Accelerators  \\n\\n| Incubator | Notable Startups | Support |\\n|-----------|------------------|---------|\\n| **T‑Hub (Bengaluru)** | Haptik, Uniphore | Funding, mentorship, office space |\\n| **Microsoft Accelerator** | Niki.ai, SigTuple | Cloud credits, technical support |\\n| **Google Launchpad** | GreyOrange, CropIn | AI/ML expertise, go‑to‑market assistance |\\n\\n### Collaborations  \\n\\n- **Public‑Private Partnerships (PPP):** AI labs at IITs collaborate with Wipro and Infosys on industry‑specific solutions.  \\n- **Academia‑Industry Joint Labs:** The AI Research Centre at IIT Delhi partners with IBM to develop AI‑driven cybersecurity tools.\\n\\n---\\n\\n## 7. Challenges & Risks  \\n\\n| Challenge | Impact | Mitigation |\\n|-----------|--------|------------|\\n| **Talent Shortage & Brain Drain** | Limited AI experts, high emigration | Expand AI curricula, offer competitive salaries, create research grants |\\n| **Data Privacy & Security** | User mistrust, regulatory fines | Adopt PDPB, implement federated learning, enforce data anonymization |\\n| **Ethical & Bias Concerns** | Discriminatory outcomes, public backlash | Build explainable AI, establish ethics boards |\\n| **Infrastructure Gaps** | Rural connectivity, power reliability | Expand 5G, invest in renewable energy for data centers |\\n| **Regulatory Uncertainty** | Stifled innovation, legal ambiguity | Clear AI governance framework, stakeholder consultations |\\n\\n---\\n\\n## 8. Success Stories & Case Studies  \\n\\n### Case 1: AI‑Driven Disease Detection in Rural Clinics  \\n- **Solution:** SigTuple’s AI platform analyzes X‑ray images for tuberculosis.  \\n- **Impact:** 70% reduction in diagnostic time, 95% accuracy, saving ₹50\\u202fLac annually for the state health department.  \\n\\n### Case 2: Smart Agriculture Platform Boosting Farmer Income  \\n- **Solution:** CropIn’s AI‑powered yield prediction and pest detection.  \\n- **Impact:** 15% increase in crop yield, 20% reduction in pesticide use, ROI of 35% within 12 months.  \\n\\n### Case 3: AI‑Powered Customer Service in Telecom  \\n- **Solution:** Uniphore’s conversational AI for Airtel’s customer support.  \\n- **Impact:** 40% reduction in call center costs, 25% improvement in customer satisfaction scores.  \\n\\n---\\n\\n## 9. Future Outlook  \\n\\n### Projected Growth Trajectory  \\n\\n| Metric | 2023 | 2025 | 2030 |\\n|--------|------|------|------|\\n| AI Market Size | $3\\u202fB | $10\\u202fB | $30\\u202fB |\\n| AI Jobs | 250\\u202fk | 1.5\\u202fM | 3\\u202fM |\\n| GDP Contribution | 0.5% | 1.5% | 3% |\\n\\n### Emerging Trends  \\n\\n- **Federated Learning:** Decentralized AI models that preserve data privacy.  \\n- **Explainable AI (XAI):** Transparent decision‑making for regulated sectors.  \\n- **AI‑Powered Policy Making:** Data‑driven governance for urban planning and public health.  \\n\\n### Potential Global Leadership  \\n\\nIndia’s open‑source AI initiatives (e.g., OpenAI India, TensorFlow India) and its large, diverse data ecosystem position it to shape international AI standards, especially in emerging markets.\\n\\n### Actionable Recommendations  \\n\\n| Stakeholder | Recommendation |\\n|-------------|----------------|\\n| **Policymakers** | Finalize AI policy by 2024, incentivize local chip manufacturing. |\\n| **Entrepreneurs** | Focus on verticals with high social impact (health, agriculture). |\\n| **Educators** | Integrate AI ethics and interdisciplinary projects into curricula. |\\n| **Investors** | Allocate at least 30% of AI funds to early‑stage, socially relevant startups. |\\n\\n---\\n\\n## 10. Conclusion  \\n\\nIndia’s AI journey—from modest academic experiments to a burgeoning ecosystem that spans 20+ sectors—illustrates the power of vision, policy, and talent. The next decade will see AI not just as a technology but as a cornerstone of India’s socio‑economic transformation.  \\n\\n**Call to Action:**  \\n- **Invest** in AI talent and infrastructure.  \\n- **Collaborate** across public, private, and academic domains.  \\n- **Innovate responsibly**—prioritize ethics, inclusivity, and data privacy.  \\n\\n> *“India’s AI future is not just about algorithms; it’s about building a smarter, more equitable nation.”*  \\n\\n---\\n\\n## 11. Resources & Further Reading  \\n\\n| Resource | Link |\\n|----------|------|\\n| **NASSCOM AI Report 2023** | https://nasscom.in/ai-report-2023 |\\n| **MeitY National AI Strategy** | https://meity.gov.in/ai-strategy |\\n| **AI Research Centres (AIRC) Directory** | https://aiirc.gov.in |\\n| **Open Government Data Portal** | https://data.gov.in |\\n| **AI Ethics Guidelines (India)** | https://pdpb.gov.in/ai-ethics |\\n| **Podcast: “AI in India” – NPTEL** | https://nptel.ac.in/ai-in-india |\\n| **Webinar: “Future of AI in Smart Cities” – IIT Delhi** | https://iitedelhi.ac.in/webinars |\\n\\n---\\n\\n### Optional Add‑Ons  \\n\\n- **Infographic:** AI adoption by sector (downloadable PDF).  \\n- **Interview Snippet:**  \\n  > *“AI is not a replacement for human jobs; it’s a catalyst for new roles that require empathy, creativity, and domain expertise.”* – **Dr. R. K. Gupta, IIT Bombay**  \\n- **Interactive Map:** AI hubs across India (embed Google Maps widget).  \\n\\n---\\n\\n*Prepared by: [Your Name], AI Analyst & Technology Writer*  \\n\\n*Published: 10\\u202fOct\\u202f2025*'}\n"
     ]
    }
   ],
   "source": [
    "initial_state={'title':'Rise of AI in India'}\n",
    "final_state=workflow.invoke(initial_state)\n",
    "print(final_state)"
   ]
  },
  {
   "cell_type": "code",
   "execution_count": 52,
   "id": "1d610cb2",
   "metadata": {},
   "outputs": [
    {
     "name": "stdout",
     "output_type": "stream",
     "text": [
      "## Blog Outline  \n",
      "**Title:** *Rise of AI in India: From Startup Hubs to Smart Nation*\n",
      "\n",
      "---\n",
      "\n",
      "### 1. Introduction  \n",
      "- **Hook:** A striking statistic or anecdote (e.g., “India’s AI market is projected to hit $10 B by 2025”).  \n",
      "- **Purpose:** Explain why the AI boom matters for India’s economy, society, and global standing.  \n",
      "- **Roadmap:** Briefly outline the sections that will follow.\n",
      "\n",
      "---\n",
      "\n",
      "### 2. Historical Context  \n",
      "- **Early AI Efforts (1990s‑2000s):**  \n",
      "  - Academic research (e.g., IITs, NITs).  \n",
      "  - First AI labs and government projects.  \n",
      "- **The Digital Revolution (2010‑2015):**  \n",
      "  - Mobile penetration, cloud adoption.  \n",
      "  - Rise of data as a commodity.  \n",
      "- **Catalysts for the Current Boom:**  \n",
      "  - Government’s “Digital India” and “Startup India” initiatives.  \n",
      "  - Global AI trends and the “AI race” narrative.\n",
      "\n",
      "---\n",
      "\n",
      "### 3. Current Landscape of AI in India  \n",
      "- **Key Players:**  \n",
      "  - **Large Corporations:** Infosys, Wipro, TCS, HCL, IBM India.  \n",
      "  - **Startups & Scale‑ups:** Haptik, Niki.ai, SigTuple, Uniphore, GreyOrange.  \n",
      "  - **Academic & Research Institutes:** IIT Bombay, IIT Delhi, IIIT Hyderabad, NIT Trichy.  \n",
      "- **Investment & Funding:**  \n",
      "  - VC inflows, corporate venture arms, government grants.  \n",
      "  - Notable funding rounds (e.g., “X” startup raised $Y).  \n",
      "- **Talent Pool:**  \n",
      "  - Number of AI researchers, PhDs, data scientists.  \n",
      "  - Role of coding bootcamps, MOOCs, and university programs.\n",
      "\n",
      "---\n",
      "\n",
      "### 4. AI Across Sectors  \n",
      "| Sector | AI Applications | Impact | Key Players |\n",
      "|--------|-----------------|--------|-------------|\n",
      "| **Healthcare** | Diagnostics, drug discovery, tele‑medicine | Reduced costs, faster diagnosis | SigTuple, Niramai, Practo |\n",
      "| **Agriculture** | Crop monitoring, yield prediction, pest detection | Higher yields, resource optimization | CropIn, Stellapps |\n",
      "| **Finance** | Fraud detection, credit scoring, robo‑advisors | Increased financial inclusion | Razorpay, Paytm, ZestMoney |\n",
      "| **Retail & E‑commerce** | Personalization, inventory forecasting | Higher conversion, lower churn | Flipkart AI, Myntra |\n",
      "| **Manufacturing** | Predictive maintenance, quality control | Reduced downtime, cost savings | GreyOrange, Locus |\n",
      "| **Smart Cities & IoT** | Traffic management, energy optimization | Improved urban living | CityMinds, SmartCity |\n",
      "| **Education** | Adaptive learning, skill assessment | Personalized learning paths | Byju’s, Vedantu |\n",
      "\n",
      "---\n",
      "\n",
      "### 5. Government Initiatives & Policy Framework  \n",
      "- **National AI Strategy (2020‑2025)** – Vision, priorities, and funding.  \n",
      "- **AI for All** – Focus on healthcare, agriculture, education.  \n",
      "- **AI Research Centres** – AI Research Centres (AIRC) and AI Labs.  \n",
      "- **Data Governance & Ethics** – Draft AI policy, data protection laws.  \n",
      "- **Skill Development** – AI-focused courses in government schemes (e.g., Pradhan Mantri Kaushal Vikas Yojana).  \n",
      "\n",
      "---\n",
      "\n",
      "### 6. Ecosystem & Infrastructure  \n",
      "- **Data Infrastructure:**  \n",
      "  - Public datasets (e.g., Open Government Data).  \n",
      "  - Cloud providers (AWS, Azure, Google Cloud, local players).  \n",
      "- **Hardware & Edge Computing:**  \n",
      "  - Availability of GPUs, TPUs, and local chip manufacturing.  \n",
      "- **Incubators & Accelerators:**  \n",
      "  - T-Hub, Microsoft Accelerator, Google Launchpad.  \n",
      "- **Collaborations:**  \n",
      "  - Public‑private partnerships, academia‑industry joint labs.\n",
      "\n",
      "---\n",
      "\n",
      "### 7. Challenges & Risks  \n",
      "- **Talent Shortage & Brain Drain** – Need for more AI researchers.  \n",
      "- **Data Privacy & Security** – Balancing innovation with user protection.  \n",
      "- **Ethical & Bias Concerns** – Ensuring inclusive AI.  \n",
      "- **Infrastructure Gaps** – Rural connectivity, power reliability.  \n",
      "- **Regulatory Uncertainty** – Need for clear AI governance.\n",
      "\n",
      "---\n",
      "\n",
      "### 8. Success Stories & Case Studies  \n",
      "- **Case 1:** *AI‑driven disease detection in rural clinics* – Impact metrics.  \n",
      "- **Case 2:** *Smart agriculture platform boosting farmer income* – ROI analysis.  \n",
      "- **Case 3:** *AI‑powered customer service in telecom* – Cost savings & customer satisfaction.  \n",
      "\n",
      "---\n",
      "\n",
      "### 9. Future Outlook  \n",
      "- **Projected Growth Trajectory** – Market size, employment, GDP contribution.  \n",
      "- **Emerging Trends:**  \n",
      "  - Federated learning, explainable AI, AI‑powered policy making.  \n",
      "- **Potential Global Leadership** – India’s role in shaping AI standards.  \n",
      "- **Actionable Recommendations** – For policymakers, entrepreneurs, and educators.\n",
      "\n",
      "---\n",
      "\n",
      "### 10. Conclusion  \n",
      "- **Recap:** Summarize key takeaways.  \n",
      "- **Call to Action:** Encourage stakeholders to invest, collaborate, and innovate responsibly.  \n",
      "- **Closing Thought:** A visionary statement about India’s AI future.\n",
      "\n",
      "---\n",
      "\n",
      "### 11. Resources & Further Reading  \n",
      "- Links to government reports, research papers, AI startup directories, and relevant podcasts or webinars.\n",
      "\n",
      "---\n",
      "\n",
      "**Optional Add‑Ons:**  \n",
      "- **Infographics** – AI adoption by sector, funding heatmap.  \n",
      "- **Interview Snippets** – Quotes from AI leaders or policymakers.  \n",
      "- **Interactive Map** – AI hubs across India.  \n",
      "\n",
      "This outline provides a comprehensive framework for a blog that covers the rise of AI in India from multiple angles—historical, economic, sectoral, policy, and future‑looking—while keeping the narrative engaging and actionable.\n"
     ]
    }
   ],
   "source": [
    "print(final_state['outline'])"
   ]
  },
  {
   "cell_type": "code",
   "execution_count": null,
   "id": "f4a4f9e3",
   "metadata": {},
   "outputs": [],
   "source": []
  }
 ],
 "metadata": {
  "kernelspec": {
   "display_name": "Python 3",
   "language": "python",
   "name": "python3"
  },
  "language_info": {
   "codemirror_mode": {
    "name": "ipython",
    "version": 3
   },
   "file_extension": ".py",
   "mimetype": "text/x-python",
   "name": "python",
   "nbconvert_exporter": "python",
   "pygments_lexer": "ipython3",
   "version": "3.9.23"
  }
 },
 "nbformat": 4,
 "nbformat_minor": 5
}
