{
 "cells": [
  {
   "cell_type": "code",
   "execution_count": 1,
   "id": "804a2f08",
   "metadata": {},
   "outputs": [
    {
     "data": {
      "text/plain": [
       "\"\\nProblem Statement: - We have to calculate strike rate, boundary percentage and balls per boundary\\nusing any cricket player runs, balls, no of 4's and no of 6's\""
      ]
     },
     "execution_count": 1,
     "metadata": {},
     "output_type": "execute_result"
    }
   ],
   "source": [
    "\"\"\"\n",
    "Problem Statement: - We have to calculate strike rate, boundary percentage and balls per boundary\n",
    "using any cricket player runs, balls, no of 4's and no of 6's\"\"\""
   ]
  },
  {
   "cell_type": "code",
   "execution_count": null,
   "id": "a846962f",
   "metadata": {},
   "outputs": [],
   "source": [
    "from langgraph.graph import StateGraph, START, END\n",
    "from typing import TypedDict"
   ]
  },
  {
   "cell_type": "code",
   "execution_count": 3,
   "id": "cfab46b5",
   "metadata": {},
   "outputs": [],
   "source": [
    "class BatsmanState(TypedDict):\n",
    "    runs:int\n",
    "    balls:int\n",
    "    fours:int\n",
    "    sixes:int\n",
    "\n",
    "    sr:float\n",
    "    bpb:float\n",
    "    boundary_percent:float\n",
    "    summary:str"
   ]
  },
  {
   "cell_type": "code",
   "execution_count": 4,
   "id": "d034ae28",
   "metadata": {},
   "outputs": [],
   "source": [
    "def calculate_sr(state: BatsmanState):\n",
    "    sr=(state['runs']/state['balls'])*100\n",
    "    return {'sr':sr}"
   ]
  },
  {
   "cell_type": "code",
   "execution_count": 5,
   "id": "160badd5",
   "metadata": {},
   "outputs": [],
   "source": [
    "def calculate_bpb(state:BatsmanState):\n",
    "    bpb=state['balls']/(state['fours'] + state['sixes'])\n",
    "\n",
    "    return {'bpb':bpb}"
   ]
  },
  {
   "cell_type": "code",
   "execution_count": 6,
   "id": "ac608a3b",
   "metadata": {},
   "outputs": [],
   "source": [
    "def calculate_boundary_percentage(state:BatsmanState):\n",
    "    boundary_percentage=((state['fours']*4)+(state['sixes']*6)/(state['runs']*100))\n",
    "\n",
    "    return {'boundary_percent':boundary_percentage}"
   ]
  },
  {
   "cell_type": "code",
   "execution_count": 7,
   "id": "ab39e722",
   "metadata": {},
   "outputs": [],
   "source": [
    "def summary(state:BatsmanState):\n",
    "    summary=f\"\"\"Strike Rate {state['sr']} \\n balls per boundary {state['bpb']} \\n\n",
    "Boundary Percent {state['boundary_percent']}\"\"\"\n",
    "    return {'summary':summary}"
   ]
  },
  {
   "cell_type": "code",
   "execution_count": 9,
   "id": "063ece90",
   "metadata": {},
   "outputs": [],
   "source": [
    "graph=StateGraph(BatsmanState)\n",
    "\n",
    "graph.add_node('calculate_sr',calculate_sr)\n",
    "graph.add_node('calculate_bpb', calculate_bpb)\n",
    "graph.add_node('calculate_boundary_percentage',calculate_boundary_percentage)\n",
    "graph.add_node('summary',summary)\n",
    "\n",
    "graph.add_edge(START,'calculate_sr')\n",
    "graph.add_edge(START,'calculate_bpb')\n",
    "graph.add_edge(START,'calculate_boundary_percentage')\n",
    "graph.add_edge('calculate_sr','summary')\n",
    "graph.add_edge('calculate_bpb','summary')\n",
    "graph.add_edge('calculate_boundary_percentage','summary')\n",
    "graph.add_edge('summary',END)\n",
    "\n",
    "workflow=graph.compile()\n"
   ]
  },
  {
   "cell_type": "code",
   "execution_count": 10,
   "id": "b1edb70c",
   "metadata": {},
   "outputs": [],
   "source": [
    "initial_state={'runs':100,'balls':50,'fours':6,'sixes':4}"
   ]
  },
  {
   "cell_type": "code",
   "execution_count": 11,
   "id": "8f481d73",
   "metadata": {},
   "outputs": [
    {
     "data": {
      "text/plain": [
       "{'runs': 100,\n",
       " 'balls': 50,\n",
       " 'fours': 6,\n",
       " 'sixes': 4,\n",
       " 'sr': 200.0,\n",
       " 'bpb': 5.0,\n",
       " 'boundary_percent': 24.0024,\n",
       " 'summary': 'Strike Rate 200.0 \\n balls per boundary 5.0 \\n\\nBoundary Percent 24.0024'}"
      ]
     },
     "execution_count": 11,
     "metadata": {},
     "output_type": "execute_result"
    }
   ],
   "source": [
    "workflow.invoke(initial_state)"
   ]
  },
  {
   "cell_type": "code",
   "execution_count": null,
   "id": "b8938216",
   "metadata": {},
   "outputs": [],
   "source": []
  }
 ],
 "metadata": {
  "kernelspec": {
   "display_name": "Python 3",
   "language": "python",
   "name": "python3"
  },
  "language_info": {
   "codemirror_mode": {
    "name": "ipython",
    "version": 3
   },
   "file_extension": ".py",
   "mimetype": "text/x-python",
   "name": "python",
   "nbconvert_exporter": "python",
   "pygments_lexer": "ipython3",
   "version": "3.9.23"
  }
 },
 "nbformat": 4,
 "nbformat_minor": 5
}
